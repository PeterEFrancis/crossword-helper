{
 "cells": [
  {
   "cell_type": "code",
   "execution_count": 3,
   "id": "db105967-81cf-4478-a7c9-a57186244383",
   "metadata": {
    "tags": []
   },
   "outputs": [],
   "source": [
    "from trie import Trie"
   ]
  },
  {
   "cell_type": "code",
   "execution_count": 35,
   "id": "24888f31-2527-4bea-b6e4-0cb9dfe97e17",
   "metadata": {
    "tags": []
   },
   "outputs": [],
   "source": [
    "words_trie = [Trie(\"\") for _ in range(23)]\n",
    "words_list = [[] for _ in range(23)]\n",
    "\n",
    "with open('word-lists/broda.txt', 'r') as f:\n",
    "    for word in f.read().split(\"\\n\"):\n",
    "         if len(word) <= 21 and word.isalpha():\n",
    "            words_trie[len(word)].push(word)\n",
    "            words_list[len(word)].append(word)"
   ]
  },
  {
   "cell_type": "code",
   "execution_count": 52,
   "id": "c19a42cf-f6f5-4a4c-82db-5e6176ffadb9",
   "metadata": {
    "tags": []
   },
   "outputs": [],
   "source": [
    "words_list = [sorted(lst) for lst in words_list]"
   ]
  },
  {
   "cell_type": "code",
   "execution_count": 36,
   "id": "026405b9-be73-4ea0-aa2e-d538bc2ed8ac",
   "metadata": {},
   "outputs": [],
   "source": [
    "def check(board):\n",
    "    # assume that the rows are words,\n",
    "    # check that the columns are all beginning of words\n",
    "    n = len(board[0])\n",
    "    for i in range(n):\n",
    "        word = \"\".join(board[j][i] for j in range(len(board)))\n",
    "        if words_trie[n].contains(word) == 0:\n",
    "            return False\n",
    "    return True"
   ]
  },
  {
   "cell_type": "code",
   "execution_count": 54,
   "id": "de8468e5-dc0a-42e9-8522-4cae44dccfec",
   "metadata": {
    "collapsed": true,
    "jupyter": {
     "outputs_hidden": true
    },
    "tags": []
   },
   "outputs": [
    {
     "name": "stdout",
     "output_type": "stream",
     "text": [
      "Unexpected exception formatting exception. Falling back to standard exception\n"
     ]
    },
    {
     "name": "stderr",
     "output_type": "stream",
     "text": [
      "Traceback (most recent call last):\n",
      "  File \"/opt/homebrew/lib/python3.11/site-packages/IPython/core/interactiveshell.py\", line 3508, in run_code\n",
      "    exec(code_obj, self.user_global_ns, self.user_ns)\n",
      "  File \"/var/folders/q1/t8gjyc4d5k78lf5ng1lgvys00000gn/T/ipykernel_39308/4224679244.py\", line -1, in <module>\n",
      "KeyboardInterrupt\n",
      "\n",
      "During handling of the above exception, another exception occurred:\n",
      "\n",
      "Traceback (most recent call last):\n",
      "  File \"/opt/homebrew/lib/python3.11/site-packages/IPython/core/interactiveshell.py\", line 2105, in showtraceback\n",
      "    stb = self.InteractiveTB.structured_traceback(\n",
      "          ^^^^^^^^^^^^^^^^^^^^^^^^^^^^^^^^^^^^^^^^\n",
      "  File \"/opt/homebrew/lib/python3.11/site-packages/IPython/core/ultratb.py\", line 1396, in structured_traceback\n",
      "    return FormattedTB.structured_traceback(\n",
      "           ^^^^^^^^^^^^^^^^^^^^^^^^^^^^^^^^^\n",
      "  File \"/opt/homebrew/lib/python3.11/site-packages/IPython/core/ultratb.py\", line 1287, in structured_traceback\n",
      "    return VerboseTB.structured_traceback(\n",
      "           ^^^^^^^^^^^^^^^^^^^^^^^^^^^^^^^\n",
      "  File \"/opt/homebrew/lib/python3.11/site-packages/IPython/core/ultratb.py\", line 1140, in structured_traceback\n",
      "    formatted_exception = self.format_exception_as_a_whole(etype, evalue, etb, number_of_lines_of_context,\n",
      "                          ^^^^^^^^^^^^^^^^^^^^^^^^^^^^^^^^^^^^^^^^^^^^^^^^^^^^^^^^^^^^^^^^^^^^^^^^^^^^^^^^\n",
      "  File \"/opt/homebrew/lib/python3.11/site-packages/IPython/core/ultratb.py\", line 1055, in format_exception_as_a_whole\n",
      "    frames.append(self.format_record(record))\n",
      "                  ^^^^^^^^^^^^^^^^^^^^^^^^^^\n",
      "  File \"/opt/homebrew/lib/python3.11/site-packages/IPython/core/ultratb.py\", line 955, in format_record\n",
      "    frame_info.lines, Colors, self.has_colors, lvals\n",
      "    ^^^^^^^^^^^^^^^^\n",
      "  File \"/opt/homebrew/lib/python3.11/site-packages/IPython/core/ultratb.py\", line 778, in lines\n",
      "    return self._sd.lines\n",
      "           ^^^^^^^^^^^^^^\n",
      "  File \"/opt/homebrew/lib/python3.11/site-packages/stack_data/utils.py\", line 144, in cached_property_wrapper\n",
      "    value = obj.__dict__[self.func.__name__] = self.func(obj)\n",
      "                                               ^^^^^^^^^^^^^^\n",
      "  File \"/opt/homebrew/lib/python3.11/site-packages/stack_data/core.py\", line 734, in lines\n",
      "    pieces = self.included_pieces\n",
      "             ^^^^^^^^^^^^^^^^^^^^\n",
      "  File \"/opt/homebrew/lib/python3.11/site-packages/stack_data/utils.py\", line 144, in cached_property_wrapper\n",
      "    value = obj.__dict__[self.func.__name__] = self.func(obj)\n",
      "                                               ^^^^^^^^^^^^^^\n",
      "  File \"/opt/homebrew/lib/python3.11/site-packages/stack_data/core.py\", line 681, in included_pieces\n",
      "    pos = scope_pieces.index(self.executing_piece)\n",
      "                             ^^^^^^^^^^^^^^^^^^^^\n",
      "  File \"/opt/homebrew/lib/python3.11/site-packages/stack_data/utils.py\", line 144, in cached_property_wrapper\n",
      "    value = obj.__dict__[self.func.__name__] = self.func(obj)\n",
      "                                               ^^^^^^^^^^^^^^\n",
      "  File \"/opt/homebrew/lib/python3.11/site-packages/stack_data/core.py\", line 660, in executing_piece\n",
      "    return only(\n",
      "           ^^^^^\n",
      "  File \"/opt/homebrew/lib/python3.11/site-packages/executing/executing.py\", line 190, in only\n",
      "    raise NotOneValueFound('Expected one value, found 0')\n",
      "executing.executing.NotOneValueFound: Expected one value, found 0\n"
     ]
    }
   ],
   "source": [
    "n = 15\n",
    "\n",
    "stack = [[word] for word in words_list[n]][::-1]\n",
    "while len(stack) > 0:\n",
    "    board = stack.pop()\n",
    "    print(\"\".join([el[0] for el in board]) + \" \" * 20, end=\"\\r\")\n",
    "    if len(board) == n:\n",
    "        print(board)\n",
    "    else:\n",
    "        for word in words_list[n][::-1]:\n",
    "            board_c = board.copy()\n",
    "            board_c.append(word)\n",
    "            if check(board_c):\n",
    "                stack.append(board_c)"
   ]
  },
  {
   "cell_type": "markdown",
   "id": "7dc07cc9-041f-4571-9683-c1ac351aa5a6",
   "metadata": {},
   "source": [
    "### only check symmetric boards"
   ]
  },
  {
   "cell_type": "code",
   "execution_count": 72,
   "id": "ff264b00-0966-4470-9deb-f8d5d85880b9",
   "metadata": {
    "tags": []
   },
   "outputs": [],
   "source": [
    "def disp(board):\n",
    "    for word in board:\n",
    "        print(\" \".join(word.upper()))\n",
    "    print()"
   ]
  },
  {
   "cell_type": "code",
   "execution_count": null,
   "id": "07202228-9abe-4ed5-9d38-1fe6bb8e4aa9",
   "metadata": {
    "tags": []
   },
   "outputs": [
    {
     "name": "stdout",
     "output_type": "stream",
     "text": [
      "A A A R A T E D             \n",
      "A N D E S I T E\n",
      "A D S M I T H S\n",
      "R E M I T T E E\n",
      "A S I T W E R E\n",
      "T I T T E R E D\n",
      "E T H E R E G E\n",
      "D E S E E D E D\n",
      "\n",
      "A B B A T I A L             \n",
      "B A R N A C L E\n",
      "B R I S K E T S\n",
      "A N S W E R E S\n",
      "T A K E C A R E\n",
      "I C E R A C E R\n",
      "A L T E R E G O\n",
      "L E S S E R O F\n",
      "\n",
      "A B E B E A M E             \n",
      "B A R B A C A N\n",
      "E R E C T E R S\n",
      "B B C R A D I O\n",
      "E A T A M E A L\n",
      "A C E D E U C E\n",
      "M A R I A C H I\n",
      "E N S O L E I L\n",
      "\n",
      "A B E R D A R E             \n",
      "B E T H E L E M\n",
      "E T H I C I S E\n",
      "R H I N I T I S\n",
      "D E C I M A L S\n",
      "A L I T A L I A\n",
      "R E S I L I N G\n",
      "E M E S S A G E\n",
      "\n",
      "abn                       \r"
     ]
    }
   ],
   "source": [
    "n = 8\n",
    "\n",
    "found = 10\n",
    "f = 0\n",
    "stack = [[word] for word in words_list[n]][::-1]\n",
    "while len(stack) > 0:\n",
    "    board = stack.pop()\n",
    "    print(\"\".join([el[0] for el in board]) + \" \" * 20, end=\"\\r\")\n",
    "    if len(board) == n:\n",
    "        f += 1\n",
    "        disp(board)\n",
    "        if f == found:\n",
    "            break\n",
    "    else:\n",
    "        # for the kth row, only chose next words that start\n",
    "        # with the fist (k) letters in column k of the board\n",
    "        k = len(board)\n",
    "        start = \"\".join(word[k] for word in board)\n",
    "        for word in words_list[n][::-1]:\n",
    "            if word.startswith(start):\n",
    "                board_c = board.copy()\n",
    "                board_c.append(word)\n",
    "                if check(board_c):\n",
    "                    stack.append(board_c)"
   ]
  },
  {
   "cell_type": "code",
   "execution_count": null,
   "id": "b8c188d3-de89-443c-b822-39c139550bb1",
   "metadata": {},
   "outputs": [],
   "source": []
  }
 ],
 "metadata": {
  "kernelspec": {
   "display_name": "Python 3 (ipykernel)",
   "language": "python",
   "name": "python3"
  },
  "language_info": {
   "codemirror_mode": {
    "name": "ipython",
    "version": 3
   },
   "file_extension": ".py",
   "mimetype": "text/x-python",
   "name": "python",
   "nbconvert_exporter": "python",
   "pygments_lexer": "ipython3",
   "version": "3.11.4"
  }
 },
 "nbformat": 4,
 "nbformat_minor": 5
}
