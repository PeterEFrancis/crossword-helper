{
 "cells": [
  {
   "cell_type": "code",
   "execution_count": 1,
   "id": "6885aac1-6474-4b1a-90ec-2528663e9960",
   "metadata": {
    "tags": []
   },
   "outputs": [],
   "source": [
    "from functools import lru_cache\n",
    "from trie import Trie\n",
    "import itertools as it"
   ]
  },
  {
   "cell_type": "code",
   "execution_count": 2,
   "id": "e2853d58-e704-4d02-8e08-dbd130fa2e92",
   "metadata": {
    "tags": []
   },
   "outputs": [],
   "source": [
    "@lru_cache(maxsize=None)\n",
    "def get_all_partitions(n):\n",
    "    if n == 0:\n",
    "        return [tuple()]\n",
    "    ret = []\n",
    "    for i in range(1, n + 1):\n",
    "        for subpart in get_all_partitions(n - i):\n",
    "            # if len(subpart) == 0 or subpart[0] <= i:\n",
    "            ret.append((i, *subpart))\n",
    "    return [tuple(r) for r in ret]"
   ]
  },
  {
   "cell_type": "code",
   "execution_count": 3,
   "id": "4b8ad481-dcb2-4977-bad4-a5b1f002e6d9",
   "metadata": {
    "tags": []
   },
   "outputs": [],
   "source": [
    "words = {i:[] for i in range(16)}\n",
    "with open('scrabble.txt', 'r') as f:\n",
    "    for word in f.read().split(\"\\n\"):\n",
    "        word = word.strip()\n",
    "        words[len(word)].append(word)\n",
    "        \n",
    "L = [0]\n",
    "for i in range(1, 16):\n",
    "    # print(i, len(words[i]))\n",
    "    L.append(len(words[i]))"
   ]
  },
  {
   "cell_type": "code",
   "execution_count": 4,
   "id": "cb4322f4-479c-43ea-b223-cc6aaa6f53f4",
   "metadata": {
    "tags": []
   },
   "outputs": [],
   "source": [
    "def get_number_phrases(n):\n",
    "    total = 0\n",
    "    for part in get_all_partitions(n):\n",
    "        t = 1\n",
    "        for el in part:\n",
    "            if el > 15:\n",
    "                t = 0\n",
    "            else:\n",
    "                t *= L[el]\n",
    "        total += t\n",
    "    return total"
   ]
  },
  {
   "cell_type": "code",
   "execution_count": 5,
   "id": "02cbf118-dee8-4604-bc0b-f8c346d7afa4",
   "metadata": {
    "tags": []
   },
   "outputs": [
    {
     "data": {
      "text/plain": [
       "6444613"
      ]
     },
     "execution_count": 5,
     "metadata": {},
     "output_type": "execute_result"
    }
   ],
   "source": [
    "get_number_phrases(6)"
   ]
  },
  {
   "cell_type": "code",
   "execution_count": null,
   "id": "21c47c0d-19e0-4ad5-985d-01a7d0f7f879",
   "metadata": {
    "tags": []
   },
   "outputs": [
    {
     "name": "stdout",
     "output_type": "stream",
     "text": [
      "(3, 3, 3, 3, 3)\n"
     ]
    }
   ],
   "source": [
    "n = 15\n",
    "\n",
    "phrase_trie = Trie('')\n",
    "for part in get_all_partitions(n):\n",
    "    if min(part) > 2:\n",
    "        print(part)\n",
    "        curr = [0] * len(part)\n",
    "        # keeps track of which combination. eg. (1, 2, 3)\n",
    "        while True:\n",
    "            phrase = \"\".join(words[part[j]][curr[j]] for j in range(len(part)))\n",
    "            phrase_trie.push(phrase)\n",
    "\n",
    "            curr[0] += 1\n",
    "            for i in range(len(part) - 1):\n",
    "                if curr[i] == L[part[i]]:\n",
    "                    curr[i] = 0\n",
    "                    curr[i + 1] += 1\n",
    "                else:\n",
    "                    break\n",
    "\n",
    "            if curr[-1] == len(words[part[-1]]):\n",
    "                break"
   ]
  },
  {
   "cell_type": "code",
   "execution_count": null,
   "id": "6d802d40-aa79-4505-924e-c6beb16b7fc7",
   "metadata": {},
   "outputs": [],
   "source": []
  }
 ],
 "metadata": {
  "kernelspec": {
   "display_name": "Python 3 (ipykernel)",
   "language": "python",
   "name": "python3"
  },
  "language_info": {
   "codemirror_mode": {
    "name": "ipython",
    "version": 3
   },
   "file_extension": ".py",
   "mimetype": "text/x-python",
   "name": "python",
   "nbconvert_exporter": "python",
   "pygments_lexer": "ipython3",
   "version": "3.11.4"
  }
 },
 "nbformat": 4,
 "nbformat_minor": 5
}
