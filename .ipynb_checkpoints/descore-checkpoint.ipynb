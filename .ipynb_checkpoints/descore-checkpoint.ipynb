{
 "cells": [
  {
   "cell_type": "code",
   "execution_count": 5,
   "id": "719b2737-8db6-4276-894e-c961c3fa4fcf",
   "metadata": {
    "tags": []
   },
   "outputs": [],
   "source": [
    "with open('broda-s.txt', 'r') as f:\n",
    "    with open('broda.txt', 'a+') as g:\n",
    "        for line in f.readlines():\n",
    "            g.write(line.split(\";\")[0].lower() + \"\\n\")"
   ]
  },
  {
   "cell_type": "code",
   "execution_count": null,
   "id": "a482acdd-c1c2-4959-abd1-401c359f7c1f",
   "metadata": {},
   "outputs": [],
   "source": []
  }
 ],
 "metadata": {
  "kernelspec": {
   "display_name": "Python 3 (ipykernel)",
   "language": "python",
   "name": "python3"
  },
  "language_info": {
   "codemirror_mode": {
    "name": "ipython",
    "version": 3
   },
   "file_extension": ".py",
   "mimetype": "text/x-python",
   "name": "python",
   "nbconvert_exporter": "python",
   "pygments_lexer": "ipython3",
   "version": "3.11.4"
  }
 },
 "nbformat": 4,
 "nbformat_minor": 5
}
