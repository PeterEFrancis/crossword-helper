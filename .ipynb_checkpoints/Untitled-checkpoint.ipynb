{
 "cells": [
  {
   "cell_type": "code",
   "execution_count": 1,
   "id": "db105967-81cf-4478-a7c9-a57186244383",
   "metadata": {
    "tags": []
   },
   "outputs": [],
   "source": [
    "from trie import Trie"
   ]
  },
  {
   "cell_type": "code",
   "execution_count": 2,
   "id": "24888f31-2527-4bea-b6e4-0cb9dfe97e17",
   "metadata": {
    "tags": []
   },
   "outputs": [],
   "source": [
    "words_trie = [Trie(\"\") for _ in range(23)]\n",
    "words_list = [[] for _ in range(23)]\n",
    "\n",
    "with open('word-lists/broda.txt', 'r') as f:\n",
    "    for word in f.read().split(\"\\n\"):\n",
    "         if len(word) <= 21 and word.isalpha():\n",
    "            words_trie[len(word)].push(word)\n",
    "            words_list[len(word)].append(word)"
   ]
  },
  {
   "cell_type": "code",
   "execution_count": 3,
   "id": "c19a42cf-f6f5-4a4c-82db-5e6176ffadb9",
   "metadata": {
    "tags": []
   },
   "outputs": [],
   "source": [
    "words_list = [sorted(lst) for lst in words_list]"
   ]
  },
  {
   "cell_type": "code",
   "execution_count": 4,
   "id": "026405b9-be73-4ea0-aa2e-d538bc2ed8ac",
   "metadata": {},
   "outputs": [],
   "source": [
    "def check(board):\n",
    "    # assume that the rows are words,\n",
    "    # check that the columns are all beginning of words\n",
    "    n = len(board[0])\n",
    "    for i in range(n):\n",
    "        word = \"\".join(board[j][i] for j in range(len(board)))\n",
    "        if words_trie[n].contains(word) == 0:\n",
    "            return False\n",
    "    return True"
   ]
  },
  {
   "cell_type": "code",
   "execution_count": 54,
   "id": "de8468e5-dc0a-42e9-8522-4cae44dccfec",
   "metadata": {
    "collapsed": true,
    "jupyter": {
     "outputs_hidden": true
    },
    "tags": []
   },
   "outputs": [
    {
     "name": "stdout",
     "output_type": "stream",
     "text": [
      "Unexpected exception formatting exception. Falling back to standard exception\n"
     ]
    },
    {
     "name": "stderr",
     "output_type": "stream",
     "text": [
      "Traceback (most recent call last):\n",
      "  File \"/opt/homebrew/lib/python3.11/site-packages/IPython/core/interactiveshell.py\", line 3508, in run_code\n",
      "    exec(code_obj, self.user_global_ns, self.user_ns)\n",
      "  File \"/var/folders/q1/t8gjyc4d5k78lf5ng1lgvys00000gn/T/ipykernel_39308/4224679244.py\", line -1, in <module>\n",
      "KeyboardInterrupt\n",
      "\n",
      "During handling of the above exception, another exception occurred:\n",
      "\n",
      "Traceback (most recent call last):\n",
      "  File \"/opt/homebrew/lib/python3.11/site-packages/IPython/core/interactiveshell.py\", line 2105, in showtraceback\n",
      "    stb = self.InteractiveTB.structured_traceback(\n",
      "          ^^^^^^^^^^^^^^^^^^^^^^^^^^^^^^^^^^^^^^^^\n",
      "  File \"/opt/homebrew/lib/python3.11/site-packages/IPython/core/ultratb.py\", line 1396, in structured_traceback\n",
      "    return FormattedTB.structured_traceback(\n",
      "           ^^^^^^^^^^^^^^^^^^^^^^^^^^^^^^^^^\n",
      "  File \"/opt/homebrew/lib/python3.11/site-packages/IPython/core/ultratb.py\", line 1287, in structured_traceback\n",
      "    return VerboseTB.structured_traceback(\n",
      "           ^^^^^^^^^^^^^^^^^^^^^^^^^^^^^^^\n",
      "  File \"/opt/homebrew/lib/python3.11/site-packages/IPython/core/ultratb.py\", line 1140, in structured_traceback\n",
      "    formatted_exception = self.format_exception_as_a_whole(etype, evalue, etb, number_of_lines_of_context,\n",
      "                          ^^^^^^^^^^^^^^^^^^^^^^^^^^^^^^^^^^^^^^^^^^^^^^^^^^^^^^^^^^^^^^^^^^^^^^^^^^^^^^^^\n",
      "  File \"/opt/homebrew/lib/python3.11/site-packages/IPython/core/ultratb.py\", line 1055, in format_exception_as_a_whole\n",
      "    frames.append(self.format_record(record))\n",
      "                  ^^^^^^^^^^^^^^^^^^^^^^^^^^\n",
      "  File \"/opt/homebrew/lib/python3.11/site-packages/IPython/core/ultratb.py\", line 955, in format_record\n",
      "    frame_info.lines, Colors, self.has_colors, lvals\n",
      "    ^^^^^^^^^^^^^^^^\n",
      "  File \"/opt/homebrew/lib/python3.11/site-packages/IPython/core/ultratb.py\", line 778, in lines\n",
      "    return self._sd.lines\n",
      "           ^^^^^^^^^^^^^^\n",
      "  File \"/opt/homebrew/lib/python3.11/site-packages/stack_data/utils.py\", line 144, in cached_property_wrapper\n",
      "    value = obj.__dict__[self.func.__name__] = self.func(obj)\n",
      "                                               ^^^^^^^^^^^^^^\n",
      "  File \"/opt/homebrew/lib/python3.11/site-packages/stack_data/core.py\", line 734, in lines\n",
      "    pieces = self.included_pieces\n",
      "             ^^^^^^^^^^^^^^^^^^^^\n",
      "  File \"/opt/homebrew/lib/python3.11/site-packages/stack_data/utils.py\", line 144, in cached_property_wrapper\n",
      "    value = obj.__dict__[self.func.__name__] = self.func(obj)\n",
      "                                               ^^^^^^^^^^^^^^\n",
      "  File \"/opt/homebrew/lib/python3.11/site-packages/stack_data/core.py\", line 681, in included_pieces\n",
      "    pos = scope_pieces.index(self.executing_piece)\n",
      "                             ^^^^^^^^^^^^^^^^^^^^\n",
      "  File \"/opt/homebrew/lib/python3.11/site-packages/stack_data/utils.py\", line 144, in cached_property_wrapper\n",
      "    value = obj.__dict__[self.func.__name__] = self.func(obj)\n",
      "                                               ^^^^^^^^^^^^^^\n",
      "  File \"/opt/homebrew/lib/python3.11/site-packages/stack_data/core.py\", line 660, in executing_piece\n",
      "    return only(\n",
      "           ^^^^^\n",
      "  File \"/opt/homebrew/lib/python3.11/site-packages/executing/executing.py\", line 190, in only\n",
      "    raise NotOneValueFound('Expected one value, found 0')\n",
      "executing.executing.NotOneValueFound: Expected one value, found 0\n"
     ]
    }
   ],
   "source": [
    "n = 15\n",
    "\n",
    "stack = [[word] for word in words_list[n]][::-1]\n",
    "while len(stack) > 0:\n",
    "    board = stack.pop()\n",
    "    print(\"\".join([el[0] for el in board]) + \" \" * 20, end=\"\\r\")\n",
    "    if len(board) == n:\n",
    "        print(board)\n",
    "    else:\n",
    "        for word in words_list[n][::-1]:\n",
    "            board_c = board.copy()\n",
    "            board_c.append(word)\n",
    "            if check(board_c):\n",
    "                stack.append(board_c)"
   ]
  },
  {
   "cell_type": "markdown",
   "id": "7dc07cc9-041f-4571-9683-c1ac351aa5a6",
   "metadata": {},
   "source": [
    "### only check symmetric boards"
   ]
  },
  {
   "cell_type": "code",
   "execution_count": 72,
   "id": "ff264b00-0966-4470-9deb-f8d5d85880b9",
   "metadata": {
    "tags": []
   },
   "outputs": [],
   "source": [
    "def disp(board):\n",
    "    for word in board:\n",
    "        print(\" \".join(word.upper()))\n",
    "    print()"
   ]
  },
  {
   "cell_type": "code",
   "execution_count": 77,
   "id": "07202228-9abe-4ed5-9d38-1fe6bb8e4aa9",
   "metadata": {
    "collapsed": true,
    "jupyter": {
     "outputs_hidden": true
    },
    "tags": []
   },
   "outputs": [
    {
     "name": "stdout",
     "output_type": "stream",
     "text": [
      "A A A R A T E D             \n",
      "A N D E S I T E\n",
      "A D S M I T H S\n",
      "R E M I T T E E\n",
      "A S I T W E R E\n",
      "T I T T E R E D\n",
      "E T H E R E G E\n",
      "D E S E E D E D\n",
      "\n",
      "A B B A T I A L             \n",
      "B A R N A C L E\n",
      "B R I S K E T S\n",
      "A N S W E R E S\n",
      "T A K E C A R E\n",
      "I C E R A C E R\n",
      "A L T E R E G O\n",
      "L E S S E R O F\n",
      "\n",
      "A B E B E A M E             \n",
      "B A R B A C A N\n",
      "E R E C T E R S\n",
      "B B C R A D I O\n",
      "E A T A M E A L\n",
      "A C E D E U C E\n",
      "M A R I A C H I\n",
      "E N S O L E I L\n",
      "\n",
      "A B E R D A R E             \n",
      "B E T H E L E M\n",
      "E T H I C I S E\n",
      "R H I N I T I S\n",
      "D E C I M A L S\n",
      "A L I T A L I A\n",
      "R E S I L I N G\n",
      "E M E S S A G E\n",
      "\n",
      "A B R A D E R S             \n",
      "B R A C E L E T\n",
      "R A R E P E P E\n",
      "A C E S O V E R\n",
      "D E P O K E N E\n",
      "E L E V E N T O\n",
      "R E P E N T O F\n",
      "S T E R E O F M\n",
      "\n",
      "A B R A D E R S             \n",
      "B R A C E L E T\n",
      "R A R E P E P E\n",
      "A C E S O V E R\n",
      "D E P O N E N T\n",
      "E L E V E N T O\n",
      "R E P E N T E R\n",
      "S T E R T O R S\n",
      "\n",
      "abra                     \r"
     ]
    },
    {
     "ename": "KeyboardInterrupt",
     "evalue": "",
     "output_type": "error",
     "traceback": [
      "\u001b[0;31m---------------------------------------------------------------------------\u001b[0m",
      "\u001b[0;31mKeyboardInterrupt\u001b[0m                         Traceback (most recent call last)",
      "Cell \u001b[0;32mIn[77], line 20\u001b[0m\n\u001b[1;32m     18\u001b[0m start \u001b[38;5;241m=\u001b[39m \u001b[38;5;124m\"\u001b[39m\u001b[38;5;124m\"\u001b[39m\u001b[38;5;241m.\u001b[39mjoin(word[k] \u001b[38;5;28;01mfor\u001b[39;00m word \u001b[38;5;129;01min\u001b[39;00m board)\n\u001b[1;32m     19\u001b[0m \u001b[38;5;28;01mfor\u001b[39;00m word \u001b[38;5;129;01min\u001b[39;00m words_list[n][::\u001b[38;5;241m-\u001b[39m\u001b[38;5;241m1\u001b[39m]:\n\u001b[0;32m---> 20\u001b[0m     \u001b[38;5;28;01mif\u001b[39;00m \u001b[43mword\u001b[49m\u001b[38;5;241;43m.\u001b[39;49m\u001b[43mstartswith\u001b[49m\u001b[43m(\u001b[49m\u001b[43mstart\u001b[49m\u001b[43m)\u001b[49m:\n\u001b[1;32m     21\u001b[0m         board_c \u001b[38;5;241m=\u001b[39m board\u001b[38;5;241m.\u001b[39mcopy()\n\u001b[1;32m     22\u001b[0m         board_c\u001b[38;5;241m.\u001b[39mappend(word)\n",
      "\u001b[0;31mKeyboardInterrupt\u001b[0m: "
     ]
    }
   ],
   "source": [
    "n = 8\n",
    "\n",
    "found = 10\n",
    "f = 0\n",
    "stack = [[word] for word in words_list[n]][::-1]\n",
    "while len(stack) > 0:\n",
    "    board = stack.pop()\n",
    "    print(\"\".join([el[0] for el in board]) + \" \" * 20, end=\"\\r\")\n",
    "    if len(board) == n:\n",
    "        f += 1\n",
    "        disp(board)\n",
    "        if f == found:\n",
    "            break\n",
    "    else:\n",
    "        # for the kth row, only chose next words that start\n",
    "        # with the fist (k) letters in column k of the board\n",
    "        k = len(board)\n",
    "        start = \"\".join(word[k] for word in board)\n",
    "        for word in words_list[n][::-1]:\n",
    "            if word.startswith(start):\n",
    "                board_c = board.copy()\n",
    "                board_c.append(word)\n",
    "                if check(board_c):\n",
    "                    stack.append(board_c)"
   ]
  },
  {
   "cell_type": "code",
   "execution_count": null,
   "id": "b8c188d3-de89-443c-b822-39c139550bb1",
   "metadata": {},
   "outputs": [],
   "source": []
  },
  {
   "cell_type": "code",
   "execution_count": null,
   "id": "3a967259-c28f-42c6-8ef6-49c357e97fcd",
   "metadata": {},
   "outputs": [],
   "source": []
  },
  {
   "cell_type": "markdown",
   "id": "45bcc262-965e-4f17-8a42-65fff1aa20df",
   "metadata": {},
   "source": [
    "# special check"
   ]
  },
  {
   "cell_type": "code",
   "execution_count": 7,
   "id": "ac17563d-b5a3-4303-9e96-33f6e65f9f82",
   "metadata": {
    "tags": []
   },
   "outputs": [],
   "source": [
    "def special_check(board):\n",
    "    for i in [0, 1, 2, 9, 10, 11]:\n",
    "        word = \"\".join(board[j][i] for j in range(len(board)))\n",
    "        if words_trie[3].contains(word) == 0 or (len(board) == 3 and words_trie[3].contains(word) != 2):\n",
    "            return False\n",
    "    \n",
    "    if board[1][-1] != 'a' or (len(board) == 3 and board[2][-1] != 's'):\n",
    "        return False\n",
    "    \n",
    "    for i, l in zip(\n",
    "        [3, 4, 5, 6, 7, 8], \n",
    "        [9, 5, 7, 7, 6, 7]\n",
    "    ):\n",
    "        word = \"\".join(board[j][i] for j in range(len(board)))\n",
    "        if words_trie[l].contains(word) != 1:\n",
    "            return False\n",
    "    \n",
    "\n",
    "    return True"
   ]
  },
  {
   "cell_type": "code",
   "execution_count": 6,
   "id": "b1515cdf-fbe4-4320-b8e3-27c463be20ce",
   "metadata": {
    "tags": []
   },
   "outputs": [
    {
     "name": "stdout",
     "output_type": "stream",
     "text": [
      "['intothtetimeslip', 'academicregalia', 'bridesmaiddress']\n",
      "['intothtetimeslip', 'academicregalia', 'pindusmountains']\n",
      "['intothtetimeslip', 'aletrisfarinosa', 'mangomargaritas']\n",
      "['intothtetimeslip', 'aleuriaaurantia', 'baltimoreravens']\n",
      "['intothtetimeslip', 'aleuriaaurantia', 'bessemerprocess']\n",
      "['intothtetimeslip', 'aleuriaaurantia', 'butteredcarrots']\n",
      "['intothtetimeslip', 'aleuriaaurantia', 'butterflykisses']\n",
      "['intothtetimeslip', 'aleuriaaurantia', 'butterflyknives']\n",
      "['intothtetimeslip', 'aleuriaaurantia', 'butterflylarvas']\n",
      "['intothtetimeslip', 'aleuriaaurantia', 'butterflyvalves']\n",
      "['intothtetimeslip', 'aleuriaaurantia', 'ceaselessnesses']\n",
      "['intothtetimeslip', 'aleuriaaurantia', 'damsonpreserves']\n",
      "['intothtetimeslip', 'aleuriaaurantia', 'dastardlinesses']\n",
      "['intothtetimeslip', 'aleuriaaurantia', 'huntinglicenses']\n",
      "['intothtetimeslip', 'aleuriaaurantia', 'learnerspermits']\n",
      "['intothtetimeslip', 'aleuriaaurantia', 'leisuresickness']\n",
      "['intothtetimeslip', 'aleuriaaurantia', 'mentalillnesses']\n",
      "['intothtetimeslip', 'aleuriaaurantia', 'numbersstations']\n",
      "['intothtetimeslip', 'aleuriaaurantia', 'pantyfetishists']\n",
      "['intothtetimeslip', 'aleuriaaurantia', 'particularities']\n",
      "['intothtetimeslip', 'aleuriaaurantia', 'sentonesregards']\n",
      "['intothtetimeslip', 'aleuriaaurantia', 'sentonesregrets']\n",
      "['intothtetimeslip', 'aleuriaaurantia', 'serratusmuscles']\n",
      "['intothtetimeslip', 'aleuriaaurantia', 'storedetectives']\n",
      "['intothtetimeslip', 'aleuriaaurantia', 'tearonesclothes']\n",
      "['intothtetimeslip', 'aleuriaaurantia', 'tensoftrillions']\n",
      "['intothtetimeslip', 'aleuriaaurantia', 'terracottatiles']\n",
      "['intothtetimeslip', 'andromedanebula', 'deepestrecesses']\n",
      "['intothtetimeslip', 'andromedanebula', 'representatives']\n",
      "['intothtetimeslip', 'anothercupoftea', 'restorationists']\n",
      "['intothtetimeslip', 'arachishypogaea', 'maternalcousins']\n",
      "['intothtetimeslip', 'arachishypogaea', 'paternalcousins']\n",
      "['intothtetimeslip', 'arachishypogaea', 'takeafewcourses']\n",
      "['intothtetimeslip', 'arterianutricia', 'closefistedness']\n",
      "['intothtetimeslip', 'battleofplataea', 'emotionalstates']\n",
      "['intothtetimeslip', 'bomareasalsilla', 'septemberbabies']\n",
      "Unexpected exception formatting exception. Falling back to standard exception\n"
     ]
    },
    {
     "name": "stderr",
     "output_type": "stream",
     "text": [
      "Traceback (most recent call last):\n",
      "  File \"/opt/homebrew/lib/python3.11/site-packages/IPython/core/interactiveshell.py\", line 3508, in run_code\n",
      "    exec(code_obj, self.user_global_ns, self.user_ns)\n",
      "  File \"/var/folders/q1/t8gjyc4d5k78lf5ng1lgvys00000gn/T/ipykernel_45489/2222110860.py\", line -1, in <module>\n",
      "KeyboardInterrupt\n",
      "\n",
      "During handling of the above exception, another exception occurred:\n",
      "\n",
      "Traceback (most recent call last):\n",
      "  File \"/opt/homebrew/lib/python3.11/site-packages/IPython/core/interactiveshell.py\", line 2105, in showtraceback\n",
      "    stb = self.InteractiveTB.structured_traceback(\n",
      "          ^^^^^^^^^^^^^^^^^^^^^^^^^^^^^^^^^^^^^^^^\n",
      "  File \"/opt/homebrew/lib/python3.11/site-packages/IPython/core/ultratb.py\", line 1396, in structured_traceback\n",
      "    return FormattedTB.structured_traceback(\n",
      "           ^^^^^^^^^^^^^^^^^^^^^^^^^^^^^^^^^\n",
      "  File \"/opt/homebrew/lib/python3.11/site-packages/IPython/core/ultratb.py\", line 1287, in structured_traceback\n",
      "    return VerboseTB.structured_traceback(\n",
      "           ^^^^^^^^^^^^^^^^^^^^^^^^^^^^^^^\n",
      "  File \"/opt/homebrew/lib/python3.11/site-packages/IPython/core/ultratb.py\", line 1140, in structured_traceback\n",
      "    formatted_exception = self.format_exception_as_a_whole(etype, evalue, etb, number_of_lines_of_context,\n",
      "                          ^^^^^^^^^^^^^^^^^^^^^^^^^^^^^^^^^^^^^^^^^^^^^^^^^^^^^^^^^^^^^^^^^^^^^^^^^^^^^^^^\n",
      "  File \"/opt/homebrew/lib/python3.11/site-packages/IPython/core/ultratb.py\", line 1055, in format_exception_as_a_whole\n",
      "    frames.append(self.format_record(record))\n",
      "                  ^^^^^^^^^^^^^^^^^^^^^^^^^^\n",
      "  File \"/opt/homebrew/lib/python3.11/site-packages/IPython/core/ultratb.py\", line 955, in format_record\n",
      "    frame_info.lines, Colors, self.has_colors, lvals\n",
      "    ^^^^^^^^^^^^^^^^\n",
      "  File \"/opt/homebrew/lib/python3.11/site-packages/IPython/core/ultratb.py\", line 778, in lines\n",
      "    return self._sd.lines\n",
      "           ^^^^^^^^^^^^^^\n",
      "  File \"/opt/homebrew/lib/python3.11/site-packages/stack_data/utils.py\", line 144, in cached_property_wrapper\n",
      "    value = obj.__dict__[self.func.__name__] = self.func(obj)\n",
      "                                               ^^^^^^^^^^^^^^\n",
      "  File \"/opt/homebrew/lib/python3.11/site-packages/stack_data/core.py\", line 734, in lines\n",
      "    pieces = self.included_pieces\n",
      "             ^^^^^^^^^^^^^^^^^^^^\n",
      "  File \"/opt/homebrew/lib/python3.11/site-packages/stack_data/utils.py\", line 144, in cached_property_wrapper\n",
      "    value = obj.__dict__[self.func.__name__] = self.func(obj)\n",
      "                                               ^^^^^^^^^^^^^^\n",
      "  File \"/opt/homebrew/lib/python3.11/site-packages/stack_data/core.py\", line 681, in included_pieces\n",
      "    pos = scope_pieces.index(self.executing_piece)\n",
      "                             ^^^^^^^^^^^^^^^^^^^^\n",
      "  File \"/opt/homebrew/lib/python3.11/site-packages/stack_data/utils.py\", line 144, in cached_property_wrapper\n",
      "    value = obj.__dict__[self.func.__name__] = self.func(obj)\n",
      "                                               ^^^^^^^^^^^^^^\n",
      "  File \"/opt/homebrew/lib/python3.11/site-packages/stack_data/core.py\", line 660, in executing_piece\n",
      "    return only(\n",
      "           ^^^^^\n",
      "  File \"/opt/homebrew/lib/python3.11/site-packages/executing/executing.py\", line 190, in only\n",
      "    raise NotOneValueFound('Expected one value, found 0')\n",
      "executing.executing.NotOneValueFound: Expected one value, found 0\n"
     ]
    }
   ],
   "source": [
    "stack = [['intothtetimeslip']]\n",
    "while len(stack) > 0:\n",
    "    board = stack.pop()\n",
    "    if len(board) == 3:\n",
    "        print(board)\n",
    "    else:\n",
    "        for word in words_list[15][::-1]:\n",
    "            board_c = board.copy()\n",
    "            board_c.append(word)\n",
    "            if special_check(board_c):\n",
    "                stack.append(board_c)"
   ]
  },
  {
   "cell_type": "code",
   "execution_count": null,
   "id": "24b6985b-68af-49c4-856b-6377f8d97f98",
   "metadata": {},
   "outputs": [],
   "source": []
  }
 ],
 "metadata": {
  "kernelspec": {
   "display_name": "Python 3 (ipykernel)",
   "language": "python",
   "name": "python3"
  },
  "language_info": {
   "codemirror_mode": {
    "name": "ipython",
    "version": 3
   },
   "file_extension": ".py",
   "mimetype": "text/x-python",
   "name": "python",
   "nbconvert_exporter": "python",
   "pygments_lexer": "ipython3",
   "version": "3.11.4"
  }
 },
 "nbformat": 4,
 "nbformat_minor": 5
}
